{
 "cells": [
  {
   "cell_type": "markdown",
   "metadata": {
    "id": "mMzAxvLKTm3P"
   },
   "source": [
    "# Download the repo (for the images)"
   ]
  },
  {
   "cell_type": "code",
   "execution_count": 6,
   "metadata": {
    "id": "IpoLinnQpx7f"
   },
   "outputs": [],
   "source": []
  },
  {
   "cell_type": "markdown",
   "metadata": {
    "colab": {
     "base_uri": "https://localhost:8080/"
    },
    "id": "hUndJ787sc6i",
    "outputId": "02a485da-92d6-4861-a282-99db66a8915a"
   },
   "source": [
    "Make sure the server is running locally. Follow instructions in README."
   ]
  },
  {
   "cell_type": "markdown",
   "metadata": {},
   "source": [
    "You can create requests as follows"
   ]
  },
  {
   "cell_type": "code",
   "execution_count": 4,
   "metadata": {
    "colab": {
     "base_uri": "https://localhost:8080/"
    },
    "id": "eWx2lQMHrpoe",
    "outputId": "0f161565-5e49-4cae-ccb5-43a603c2133c"
   },
   "outputs": [
    {
     "name": "stdout",
     "output_type": "stream",
     "text": [
      "{\"task_id\":\"d4ef7343-52ae-45f5-a96f-9319cda29989\",\"status\":\"processing\"}"
     ]
    }
   ],
   "source": [
    "!curl -X 'POST' \\\n",
    "  \"http://127.0.0.1:8000/upload/\" \\\n",
    "  -H 'accept: application/json' \\\n",
    "  -H 'Content-Type: multipart/form-data' \\\n",
    "  -F 'file=@twitter_users/Screenshot 2024-05-01 at 7.20.59 PM.png' \\\n",
    "  -F 'text=Get the latest tweet by this twitter user'"
   ]
  },
  {
   "cell_type": "markdown",
   "metadata": {},
   "source": [
    "You can then check the status of the task with"
   ]
  },
  {
   "cell_type": "code",
   "execution_count": 6,
   "metadata": {},
   "outputs": [
    {
     "name": "stdout",
     "output_type": "stream",
     "text": [
      "{\"status\":\"completed\",\"command_results\":[\"Extracted Instructions: I am sorry, there is not enough context to complete your request.\\n Do the above task with no pauses or further human input.\",\"ERROR: No URL found in response.\",\"Retrying with command: {command1}\",\"STATUS: CONTINUE, MESSAGE: I am clicking on the \\\"Posts\\\" tab to view the latest tweets by the user @arankomatsuzaki.\\n\",\"STATUS: DONE, MESSAGE: The latest tweet by the Twitter user @arankomatsuzaki is: \\\"OpenAI did what used to be considered impossible. They made people want to use Bing.\\\"\\n\"],\"final_status\":\"DONE\"}"
     ]
    }
   ],
   "source": [
    "!curl -X 'GET' \"http://127.0.0.1:8000/status/d4ef7343-52ae-45f5-a96f-9319cda29989\""
   ]
  },
  {
   "cell_type": "code",
   "execution_count": null,
   "metadata": {},
   "outputs": [],
   "source": [
    "import requests\n",
    "from time import sleep\n",
    "\n",
    "# Define the URL\n",
    "url = \"http://127.0.0.1:8000/upload/\"\n",
    "\n",
    "# Define the parameters\n",
    "params = {\n",
    "    'text': 'Get the latest tweet by this twitter user'\n",
    "}\n",
    "\n",
    "# Define the files to upload\n",
    "files = {\n",
    "    'file': open('twitter_users/Screenshot 2024-05-01 at 7.20.59 PM.png', 'rb')\n",
    "}\n",
    "\n",
    "# Make the request\n",
    "response = requests.post(url, files=files, data=params, headers={'accept': 'application/json'})\n",
    "\n",
    "# Check if the request was successful (status code 200)\n",
    "if response.status_code == 200:\n",
    "    # Print the response content\n",
    "    print(response.json())\n",
    "    task_id = response.json()['task_id']\n",
    "else:\n",
    "    print(\"Request failed with status code:\", response.status_code)\n",
    "\n",
    "status_url = \"http://127.0.0.1:8000/status/\" + task_id\n",
    "complete = False\n",
    "while(not complete):\n",
    "    status_response = requests.get(status_url)\n",
    "    print(status_response.json())\n",
    "    sleep(10)\n",
    "    if status_response.json()['status'] == 'complete':\n",
    "        complete = True\n",
    "\n"
   ]
  }
 ],
 "metadata": {
  "colab": {
   "provenance": []
  },
  "kernelspec": {
   "display_name": "Python 3 (ipykernel)",
   "language": "python",
   "name": "python3"
  },
  "language_info": {
   "codemirror_mode": {
    "name": "ipython",
    "version": 3
   },
   "file_extension": ".py",
   "mimetype": "text/x-python",
   "name": "python",
   "nbconvert_exporter": "python",
   "pygments_lexer": "ipython3",
   "version": "3.12.3"
  }
 },
 "nbformat": 4,
 "nbformat_minor": 4
}
